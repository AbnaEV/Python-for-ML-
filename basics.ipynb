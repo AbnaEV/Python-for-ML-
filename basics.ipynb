{
 "cells": [
  {
   "cell_type": "markdown",
   "id": "57ea0627-60c5-412a-9e6f-e48d8082be4c",
   "metadata": {},
   "source": [
    "# BASICS OF `PYTHON` PROGRAMMING\n",
    "\n",
    "In this notebook we will explain basic `Python` for Machine Learning."
   ]
  },
  {
   "cell_type": "markdown",
   "id": "0e70b044-9510-41d3-be36-defbcae148ba",
   "metadata": {},
   "source": [
    "## DERIVED DATATYPES IN `PYTHON`"
   ]
  },
  {
   "cell_type": "markdown",
   "id": "88f1babc-94e0-41a6-ad88-c3a5f9cb9ff0",
   "metadata": {},
   "source": [
    ">**NOTE:** in python `int`,`float`,`str` etc are atomic datatypes and no declaration is required."
   ]
  },
  {
   "cell_type": "markdown",
   "id": "fd0fa90d-1105-4df4-ba1f-8ff767f251af",
   "metadata": {},
   "source": [
    "## list"
   ]
  },
  {
   "cell_type": "code",
   "execution_count": 37,
   "id": "05abb681-5f3e-4d0d-badb-2906b8ea1254",
   "metadata": {},
   "outputs": [],
   "source": [
    "\n",
    "my_list=[1,2,3]"
   ]
  },
  {
   "cell_type": "code",
   "execution_count": 2,
   "id": "484b5469-2afe-42e4-aca8-a841bb888766",
   "metadata": {},
   "outputs": [
    {
     "data": {
      "text/plain": [
       "[1, 2, 3]"
      ]
     },
     "execution_count": 2,
     "metadata": {},
     "output_type": "execute_result"
    }
   ],
   "source": [
    "my_list"
   ]
  },
  {
   "cell_type": "code",
   "execution_count": 11,
   "id": "af207b49-db9f-4881-b403-0c16e9688b85",
   "metadata": {},
   "outputs": [],
   "source": [
    "my_list=[8,'a',2,'b',3,'c']"
   ]
  },
  {
   "cell_type": "code",
   "execution_count": 4,
   "id": "a88a1262-83e6-4e04-adc4-54d36b9c4e33",
   "metadata": {},
   "outputs": [],
   "source": [
    "my_list=[1,'a',3,'b']\n"
   ]
  },
  {
   "cell_type": "code",
   "execution_count": 5,
   "id": "55c216a8-9393-4b8f-95b0-956f900c41ba",
   "metadata": {},
   "outputs": [
    {
     "data": {
      "text/plain": [
       "[1, 'a', 3, 'b']"
      ]
     },
     "execution_count": 5,
     "metadata": {},
     "output_type": "execute_result"
    }
   ],
   "source": [
    "my_list"
   ]
  },
  {
   "cell_type": "code",
   "execution_count": 6,
   "id": "1a4190de-4350-4c5c-88f9-9a57d9ad4a4a",
   "metadata": {},
   "outputs": [
    {
     "data": {
      "text/plain": [
       "1"
      ]
     },
     "execution_count": 6,
     "metadata": {},
     "output_type": "execute_result"
    }
   ],
   "source": [
    "my_list[0]\n"
   ]
  },
  {
   "cell_type": "code",
   "execution_count": 7,
   "id": "85ac4b26-6d81-40cd-b892-10f2375f3458",
   "metadata": {},
   "outputs": [],
   "source": [
    "my_list=[1,2,[100,200]]"
   ]
  },
  {
   "cell_type": "code",
   "execution_count": 8,
   "id": "7a4635f0-8338-416b-b59c-e6adca0eb8db",
   "metadata": {},
   "outputs": [
    {
     "data": {
      "text/plain": [
       "[1, 2, [100, 200]]"
      ]
     },
     "execution_count": 8,
     "metadata": {},
     "output_type": "execute_result"
    }
   ],
   "source": [
    "my_list"
   ]
  },
  {
   "cell_type": "code",
   "execution_count": 9,
   "id": "057ca311-b13c-4db9-8fcc-bdc9290d17b9",
   "metadata": {},
   "outputs": [
    {
     "data": {
      "text/plain": [
       "200"
      ]
     },
     "execution_count": 9,
     "metadata": {},
     "output_type": "execute_result"
    }
   ],
   "source": [
    "my_list[2][1]"
   ]
  },
  {
   "cell_type": "code",
   "execution_count": 12,
   "id": "8ab94fea-625e-4796-ab1a-8d7d66beeb7a",
   "metadata": {},
   "outputs": [],
   "source": [
    "my_list[0]=\"new\""
   ]
  },
  {
   "cell_type": "code",
   "execution_count": 13,
   "id": "d48acb8c-a133-4122-ae4d-34511f6b103c",
   "metadata": {},
   "outputs": [
    {
     "data": {
      "text/plain": [
       "['new', 'a', 2, 'b', 3, 'c']"
      ]
     },
     "execution_count": 13,
     "metadata": {},
     "output_type": "execute_result"
    }
   ],
   "source": [
    "my_list"
   ]
  },
  {
   "cell_type": "raw",
   "id": "f3cc5c13-ecfb-47b7-b64b-1b49c069fe7b",
   "metadata": {},
   "source": [
    "my_list.append('e')"
   ]
  },
  {
   "cell_type": "code",
   "execution_count": 14,
   "id": "7ea74f34-afc6-4c59-afac-b0cb6b43a491",
   "metadata": {},
   "outputs": [
    {
     "data": {
      "text/plain": [
       "['new', 'a', 2, 'b', 3, 'c']"
      ]
     },
     "execution_count": 14,
     "metadata": {},
     "output_type": "execute_result"
    }
   ],
   "source": [
    "my_list"
   ]
  },
  {
   "cell_type": "code",
   "execution_count": 15,
   "id": "6128acb4-8e71-460b-bd8b-065f76f4612e",
   "metadata": {},
   "outputs": [],
   "source": [
    "my_list.append('e')"
   ]
  },
  {
   "cell_type": "code",
   "execution_count": 16,
   "id": "160713b9-9c32-4daa-a42e-ef5e0a896403",
   "metadata": {},
   "outputs": [
    {
     "data": {
      "text/plain": [
       "['new', 'a', 2, 'b', 3, 'c', 'e']"
      ]
     },
     "execution_count": 16,
     "metadata": {},
     "output_type": "execute_result"
    }
   ],
   "source": [
    "my_list"
   ]
  },
  {
   "cell_type": "code",
   "execution_count": 17,
   "id": "9aeb75de-63cf-4542-ade1-709e571dcdf4",
   "metadata": {},
   "outputs": [],
   "source": [
    "t=(1,2,3)"
   ]
  },
  {
   "cell_type": "code",
   "execution_count": 18,
   "id": "d78cb332-4411-4326-ae1e-30dadb8f406e",
   "metadata": {},
   "outputs": [
    {
     "data": {
      "text/plain": [
       "(1, 2, 3)"
      ]
     },
     "execution_count": 18,
     "metadata": {},
     "output_type": "execute_result"
    }
   ],
   "source": [
    "t"
   ]
  },
  {
   "cell_type": "code",
   "execution_count": 19,
   "id": "7ed2f7f9-7e85-477a-9c93-88a14d681ed6",
   "metadata": {},
   "outputs": [],
   "source": [
    "d={'name':'Abna','age':20}"
   ]
  },
  {
   "cell_type": "code",
   "execution_count": 20,
   "id": "cb8d819b-c2a3-4b6b-8c34-fe582a4df854",
   "metadata": {},
   "outputs": [
    {
     "data": {
      "text/plain": [
       "{'name': 'Abna', 'age': 20}"
      ]
     },
     "execution_count": 20,
     "metadata": {},
     "output_type": "execute_result"
    }
   ],
   "source": [
    "d"
   ]
  },
  {
   "cell_type": "code",
   "execution_count": 21,
   "id": "8f7fae30-2082-4e31-996d-e344369e4b0d",
   "metadata": {},
   "outputs": [
    {
     "data": {
      "text/plain": [
       "20"
      ]
     },
     "execution_count": 21,
     "metadata": {},
     "output_type": "execute_result"
    }
   ],
   "source": [
    "d['age']"
   ]
  },
  {
   "cell_type": "code",
   "execution_count": 22,
   "id": "2b9461d0-75d7-4406-9cc9-08ada7150b9b",
   "metadata": {},
   "outputs": [
    {
     "data": {
      "text/plain": [
       "'Abna'"
      ]
     },
     "execution_count": 22,
     "metadata": {},
     "output_type": "execute_result"
    }
   ],
   "source": [
    "d['name']"
   ]
  },
  {
   "cell_type": "code",
   "execution_count": 23,
   "id": "c2f317db-e4f8-409f-b22e-9643052b3a90",
   "metadata": {},
   "outputs": [
    {
     "data": {
      "text/plain": [
       "{1, 2, 3, 4}"
      ]
     },
     "execution_count": 23,
     "metadata": {},
     "output_type": "execute_result"
    }
   ],
   "source": [
    "{1,2,3,2,2,3,3,4,4,1}"
   ]
  },
  {
   "cell_type": "code",
   "execution_count": 24,
   "id": "c9ad901a-dec8-48fd-aff8-d32d72ca8cec",
   "metadata": {},
   "outputs": [],
   "source": [
    "def times2(var):\n",
    "    return var*2"
   ]
  },
  {
   "cell_type": "code",
   "execution_count": 35,
   "id": "84d831fb-24bf-474a-bd1a-4836be8dcca1",
   "metadata": {},
   "outputs": [
    {
     "data": {
      "text/plain": [
       "4"
      ]
     },
     "execution_count": 35,
     "metadata": {},
     "output_type": "execute_result"
    }
   ],
   "source": [
    "times2(2)"
   ]
  },
  {
   "cell_type": "code",
   "execution_count": 26,
   "id": "093012af-268d-43c2-ba20-5d581ca7c46e",
   "metadata": {},
   "outputs": [
    {
     "data": {
      "text/plain": [
       "4"
      ]
     },
     "execution_count": 26,
     "metadata": {},
     "output_type": "execute_result"
    }
   ],
   "source": [
    "times2(2)\n"
   ]
  },
  {
   "cell_type": "code",
   "execution_count": 27,
   "id": "3f61f5df-9f8a-4857-a8ff-2f3e3e41805a",
   "metadata": {},
   "outputs": [],
   "source": [
    "times2=lambda var:var*2"
   ]
  },
  {
   "cell_type": "code",
   "execution_count": 28,
   "id": "6a462dae-dbcf-46dd-abb8-8a0c5d91e4cd",
   "metadata": {},
   "outputs": [
    {
     "name": "stdout",
     "output_type": "stream",
     "text": [
      "4\n"
     ]
    }
   ],
   "source": [
    "print(times2(2))"
   ]
  },
  {
   "cell_type": "code",
   "execution_count": 29,
   "id": "d1b78a52-c215-49f9-a093-feb824d66263",
   "metadata": {},
   "outputs": [],
   "source": [
    "x=[1,2,3,4]"
   ]
  },
  {
   "cell_type": "code",
   "execution_count": 31,
   "id": "5df99c92-8097-48a2-a7e8-c0167f063bc4",
   "metadata": {},
   "outputs": [
    {
     "name": "stdout",
     "output_type": "stream",
     "text": [
      "[1, 4, 9, 16]\n"
     ]
    }
   ],
   "source": [
    "out=[]\n",
    "for item in x:\n",
    "    out.append(item**2)\n",
    "print(out)    "
   ]
  },
  {
   "cell_type": "markdown",
   "id": "d8e71512-cd38-4713-84c0-c3c2a0d9b105",
   "metadata": {},
   "source": [
    "print(\"my name is:{0},my number is:{1}\".format('abna',9))\n"
   ]
  },
  {
   "cell_type": "code",
   "execution_count": 32,
   "id": "62a4cf1c-89be-44c6-95a8-e49ee04d6150",
   "metadata": {},
   "outputs": [
    {
     "name": "stdout",
     "output_type": "stream",
     "text": [
      "my name is:abna,my number is:9\n"
     ]
    }
   ],
   "source": [
    "print(\"my name is:{0},my number is:{1}\".format('abna',9))"
   ]
  },
  {
   "cell_type": "code",
   "execution_count": 33,
   "id": "d4293165-5a0e-491e-99c1-9578c02099cf",
   "metadata": {},
   "outputs": [],
   "source": [
    "num=9\n",
    "name='abna'"
   ]
  },
  {
   "cell_type": "code",
   "execution_count": 34,
   "id": "99e1860e-2952-41e7-82be-5e10e2dbedd5",
   "metadata": {},
   "outputs": [
    {
     "name": "stdout",
     "output_type": "stream",
     "text": [
      "my name is:9,my number is:abna\n"
     ]
    }
   ],
   "source": [
    "print(\"my name is:{one},my number is:{two}\".format(one=num,two=name))"
   ]
  },
  {
   "cell_type": "code",
   "execution_count": null,
   "id": "d4a30e0c-0ba2-4cc1-a54f-fc7f668caf8c",
   "metadata": {},
   "outputs": [],
   "source": []
  }
 ],
 "metadata": {
  "kernelspec": {
   "display_name": "Python 3 (Intel® oneAPI 2023.2)",
   "language": "python",
   "name": "c009-intel_distribution_of_python_3_oneapi-beta05-python"
  },
  "language_info": {
   "codemirror_mode": {
    "name": "ipython",
    "version": 3
   },
   "file_extension": ".py",
   "mimetype": "text/x-python",
   "name": "python",
   "nbconvert_exporter": "python",
   "pygments_lexer": "ipython3",
   "version": "3.9.16"
  }
 },
 "nbformat": 4,
 "nbformat_minor": 5
}
